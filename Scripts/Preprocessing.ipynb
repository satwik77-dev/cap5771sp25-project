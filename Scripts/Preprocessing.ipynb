{
 "cells": [
  {
   "cell_type": "markdown",
   "id": "d31c10bd-fc3a-4248-89e7-62eb2fb8f949",
   "metadata": {},
   "source": [
    "# Dataset 1: Mental Health Counseling Conversations"
   ]
  },
  {
   "cell_type": "markdown",
   "id": "7915e70c-fc6f-4c38-8acf-3785c7df00fe",
   "metadata": {},
   "source": [
    "Source: Hugging Face\n",
    "Dataset: Amod/mental_health_counseling_conversations\n",
    "Dataset Link : https://huggingface.co/datasets/Amod/mental_health_counseling_conversations"
   ]
  },
  {
   "cell_type": "code",
   "execution_count": 12,
   "id": "843df490-273e-4252-b078-9008c1895437",
   "metadata": {},
   "outputs": [
    {
     "name": "stderr",
     "output_type": "stream",
     "text": [
      "[nltk_data] Downloading package stopwords to\n",
      "[nltk_data]     /Users/satwik/nltk_data...\n",
      "[nltk_data]   Package stopwords is already up-to-date!\n",
      "[nltk_data] Downloading package wordnet to /Users/satwik/nltk_data...\n",
      "[nltk_data]   Package wordnet is already up-to-date!\n"
     ]
    },
    {
     "data": {
      "text/plain": [
       "True"
      ]
     },
     "execution_count": 12,
     "metadata": {},
     "output_type": "execute_result"
    }
   ],
   "source": [
    "# Import necessary libraries\n",
    "import pandas as pd\n",
    "import numpy as np\n",
    "import re\n",
    "import nltk\n",
    "from nltk.corpus import stopwords\n",
    "from nltk.stem import WordNetLemmatizer\n",
    "import matplotlib.pyplot as plt\n",
    "import seaborn as sns\n",
    "\n",
    "# Download stopwords and wordnet for NLP preprocessing\n",
    "nltk.download('stopwords')\n",
    "nltk.download('wordnet')"
   ]
  },
  {
   "cell_type": "code",
   "execution_count": 16,
   "id": "685bccd6-ee5b-463c-bbde-2c7b9ce16d26",
   "metadata": {},
   "outputs": [
    {
     "data": {
      "text/html": [
       "<div>\n",
       "<style scoped>\n",
       "    .dataframe tbody tr th:only-of-type {\n",
       "        vertical-align: middle;\n",
       "    }\n",
       "\n",
       "    .dataframe tbody tr th {\n",
       "        vertical-align: top;\n",
       "    }\n",
       "\n",
       "    .dataframe thead th {\n",
       "        text-align: right;\n",
       "    }\n",
       "</style>\n",
       "<table border=\"1\" class=\"dataframe\">\n",
       "  <thead>\n",
       "    <tr style=\"text-align: right;\">\n",
       "      <th></th>\n",
       "      <th>Context</th>\n",
       "      <th>Response</th>\n",
       "    </tr>\n",
       "  </thead>\n",
       "  <tbody>\n",
       "    <tr>\n",
       "      <th>0</th>\n",
       "      <td>I'm going through some things with my feelings...</td>\n",
       "      <td>If everyone thinks you're worthless, then mayb...</td>\n",
       "    </tr>\n",
       "    <tr>\n",
       "      <th>1</th>\n",
       "      <td>I'm going through some things with my feelings...</td>\n",
       "      <td>Hello, and thank you for your question and see...</td>\n",
       "    </tr>\n",
       "    <tr>\n",
       "      <th>2</th>\n",
       "      <td>I'm going through some things with my feelings...</td>\n",
       "      <td>First thing I'd suggest is getting the sleep y...</td>\n",
       "    </tr>\n",
       "    <tr>\n",
       "      <th>3</th>\n",
       "      <td>I'm going through some things with my feelings...</td>\n",
       "      <td>Therapy is essential for those that are feelin...</td>\n",
       "    </tr>\n",
       "    <tr>\n",
       "      <th>4</th>\n",
       "      <td>I'm going through some things with my feelings...</td>\n",
       "      <td>I first want to let you know that you are not ...</td>\n",
       "    </tr>\n",
       "    <tr>\n",
       "      <th>5</th>\n",
       "      <td>I'm going through some things with my feelings...</td>\n",
       "      <td>Heck, sure thing, hun!Feelings of 'depression'...</td>\n",
       "    </tr>\n",
       "    <tr>\n",
       "      <th>6</th>\n",
       "      <td>I'm going through some things with my feelings...</td>\n",
       "      <td>You are exhibiting some specific traits of a p...</td>\n",
       "    </tr>\n",
       "    <tr>\n",
       "      <th>7</th>\n",
       "      <td>I'm going through some things with my feelings...</td>\n",
       "      <td>That is intense. Depression is a liar. Sometim...</td>\n",
       "    </tr>\n",
       "    <tr>\n",
       "      <th>8</th>\n",
       "      <td>I'm going through some things with my feelings...</td>\n",
       "      <td>It sounds like you may be putting yourself las...</td>\n",
       "    </tr>\n",
       "    <tr>\n",
       "      <th>9</th>\n",
       "      <td>I'm going through some things with my feelings...</td>\n",
       "      <td>It must be really difficult to experience what...</td>\n",
       "    </tr>\n",
       "  </tbody>\n",
       "</table>\n",
       "</div>"
      ],
      "text/plain": [
       "                                             Context  \\\n",
       "0  I'm going through some things with my feelings...   \n",
       "1  I'm going through some things with my feelings...   \n",
       "2  I'm going through some things with my feelings...   \n",
       "3  I'm going through some things with my feelings...   \n",
       "4  I'm going through some things with my feelings...   \n",
       "5  I'm going through some things with my feelings...   \n",
       "6  I'm going through some things with my feelings...   \n",
       "7  I'm going through some things with my feelings...   \n",
       "8  I'm going through some things with my feelings...   \n",
       "9  I'm going through some things with my feelings...   \n",
       "\n",
       "                                            Response  \n",
       "0  If everyone thinks you're worthless, then mayb...  \n",
       "1  Hello, and thank you for your question and see...  \n",
       "2  First thing I'd suggest is getting the sleep y...  \n",
       "3  Therapy is essential for those that are feelin...  \n",
       "4  I first want to let you know that you are not ...  \n",
       "5  Heck, sure thing, hun!Feelings of 'depression'...  \n",
       "6  You are exhibiting some specific traits of a p...  \n",
       "7  That is intense. Depression is a liar. Sometim...  \n",
       "8  It sounds like you may be putting yourself las...  \n",
       "9  It must be really difficult to experience what...  "
      ]
     },
     "execution_count": 16,
     "metadata": {},
     "output_type": "execute_result"
    }
   ],
   "source": [
    "# Load the dataset (from Hugging Face)\n",
    "df = pd.read_json(\"hf://datasets/Amod/mental_health_counseling_conversations/combined_dataset.json\", lines=True)\n",
    "\n",
    "# Display first Ten rows\n",
    "df.head(10)"
   ]
  },
  {
   "cell_type": "code",
   "execution_count": 29,
   "id": "32a506c7-4d3b-4cb2-b91e-89eaf2c23bb9",
   "metadata": {},
   "outputs": [
    {
     "name": "stdout",
     "output_type": "stream",
     "text": [
      "Number of rows in the dataset: 3512\n"
     ]
    }
   ],
   "source": [
    "print(f\"Number of rows in the dataset: {df.shape[0]}\")"
   ]
  },
  {
   "cell_type": "code",
   "execution_count": 27,
   "id": "2c623471-adcf-4ec8-b348-0fc70cf2d979",
   "metadata": {},
   "outputs": [
    {
     "name": "stdout",
     "output_type": "stream",
     "text": [
      "<class 'pandas.core.frame.DataFrame'>\n",
      "RangeIndex: 3512 entries, 0 to 3511\n",
      "Data columns (total 2 columns):\n",
      " #   Column    Non-Null Count  Dtype \n",
      "---  ------    --------------  ----- \n",
      " 0   Context   3512 non-null   object\n",
      " 1   Response  3512 non-null   object\n",
      "dtypes: object(2)\n",
      "memory usage: 55.0+ KB\n"
     ]
    }
   ],
   "source": [
    "df.info()"
   ]
  },
  {
   "cell_type": "markdown",
   "id": "f6d5b1a1-402f-4235-b9bb-a377dcd2e796",
   "metadata": {},
   "source": [
    "## Handle Missing Data\n",
    "If 'Context' (User Question) or 'Response' (Therapist Answer) is missing → Drop the row."
   ]
  },
  {
   "cell_type": "code",
   "execution_count": 21,
   "id": "3ef27037-9950-4512-adfd-21ec2545500e",
   "metadata": {},
   "outputs": [
    {
     "name": "stdout",
     "output_type": "stream",
     "text": [
      "Missing values before handling:\n",
      "Context     0\n",
      "Response    0\n",
      "dtype: int64\n"
     ]
    }
   ],
   "source": [
    "# Check for missing values\n",
    "print(\"Missing values before handling:\")\n",
    "print(df.isnull().sum())"
   ]
  },
  {
   "cell_type": "markdown",
   "id": "ec00fbc7-4102-48a2-8085-55bf3bf1a08c",
   "metadata": {},
   "source": [
    "This indicates that there are no missing values in this dataset, so we don’t need to apply any Missing value handling techniques"
   ]
  },
  {
   "cell_type": "markdown",
   "id": "9e021e7c-b781-4fc4-bb42-1ecd9ce4cae2",
   "metadata": {},
   "source": [
    "## Remove Outliers (Based on Text Length)"
   ]
  },
  {
   "cell_type": "markdown",
   "id": "113a9399-3768-48c5-815e-df84f1ddd71b",
   "metadata": {},
   "source": [
    "Remove extremely short questions (<5 words) and long responses (>500 words)."
   ]
  },
  {
   "cell_type": "code",
   "execution_count": 31,
   "id": "ce36b70d-3581-460d-be05-fca3a9dd19ca",
   "metadata": {},
   "outputs": [
    {
     "name": "stdout",
     "output_type": "stream",
     "text": [
      "Dataset size after outlier removal: (3430, 2)\n"
     ]
    }
   ],
   "source": [
    "# Calculate word count for each row\n",
    "df['context_word_count'] = df['Context'].apply(lambda x: len(x.split()))\n",
    "df['response_word_count'] = df['Response'].apply(lambda x: len(x.split()))\n",
    "\n",
    "# Define reasonable thresholds for length\n",
    "min_question_length = 5  # At least 5 words in question\n",
    "max_response_length = 500  # Max 500 words in therapist's response\n",
    "\n",
    "# Apply filters\n",
    "df = df[(df['context_word_count'] >= min_question_length) & (df['response_word_count'] <= max_response_length)]\n",
    "df = df.drop(columns=['context_word_count', 'response_word_count'])\n",
    "print(f\"Dataset size after outlier removal: {df.shape}\")"
   ]
  },
  {
   "cell_type": "markdown",
   "id": "fed4d6df-efc4-46a9-b42d-aa136f491423",
   "metadata": {},
   "source": [
    "## Text Cleaning (NLP Preprocessing)"
   ]
  },
  {
   "cell_type": "markdown",
   "id": "3ad9dc00-339a-4b77-8a56-c83dfd244683",
   "metadata": {},
   "source": [
    "- Convert to lowercase\n",
    "- Remove special characters & punctuation\n",
    "- Remove stopwords\n",
    "- Lemmatization"
   ]
  },
  {
   "cell_type": "code",
   "execution_count": 38,
   "id": "9f3d2c2a-5cec-4c99-abca-8c551feb3fbf",
   "metadata": {},
   "outputs": [],
   "source": [
    "# Initialize NLP tools\n",
    "lemmatizer = WordNetLemmatizer()\n",
    "stop_words = set(stopwords.words('english'))\n",
    "\n",
    "# Function to clean text\n",
    "def clean_text(text):\n",
    "    text = text.lower()  # Convert to lowercase\n",
    "    text = re.sub(r'[^a-zA-Z\\s]', '', text)  # Remove special characters & punctuation\n",
    "    text = ' '.join([word for word in text.split() if word not in stop_words])  # Remove stopwords\n",
    "    text = ' '.join([lemmatizer.lemmatize(word) for word in text.split()])  # Apply lemmatization\n",
    "    return text\n",
    "\n",
    "# Apply text cleaning\n",
    "df['Cleaned_Context'] = df['Context'].apply(clean_text)\n",
    "df['Cleaned_Response'] = df['Response'].apply(clean_text)"
   ]
  },
  {
   "cell_type": "code",
   "execution_count": 40,
   "id": "8800d940-d45d-44d7-b9b4-bd94bda4372b",
   "metadata": {},
   "outputs": [
    {
     "data": {
      "text/html": [
       "<div>\n",
       "<style scoped>\n",
       "    .dataframe tbody tr th:only-of-type {\n",
       "        vertical-align: middle;\n",
       "    }\n",
       "\n",
       "    .dataframe tbody tr th {\n",
       "        vertical-align: top;\n",
       "    }\n",
       "\n",
       "    .dataframe thead th {\n",
       "        text-align: right;\n",
       "    }\n",
       "</style>\n",
       "<table border=\"1\" class=\"dataframe\">\n",
       "  <thead>\n",
       "    <tr style=\"text-align: right;\">\n",
       "      <th></th>\n",
       "      <th>Cleaned_Context</th>\n",
       "      <th>Cleaned_Response</th>\n",
       "    </tr>\n",
       "  </thead>\n",
       "  <tbody>\n",
       "    <tr>\n",
       "      <th>0</th>\n",
       "      <td>im going thing feeling barely sleep nothing th...</td>\n",
       "      <td>everyone think youre worthless maybe need find...</td>\n",
       "    </tr>\n",
       "    <tr>\n",
       "      <th>1</th>\n",
       "      <td>im going thing feeling barely sleep nothing th...</td>\n",
       "      <td>hello thank question seeking advice feeling wo...</td>\n",
       "    </tr>\n",
       "    <tr>\n",
       "      <th>2</th>\n",
       "      <td>im going thing feeling barely sleep nothing th...</td>\n",
       "      <td>first thing id suggest getting sleep need impa...</td>\n",
       "    </tr>\n",
       "    <tr>\n",
       "      <th>3</th>\n",
       "      <td>im going thing feeling barely sleep nothing th...</td>\n",
       "      <td>therapy essential feeling depressed worthless ...</td>\n",
       "    </tr>\n",
       "    <tr>\n",
       "      <th>4</th>\n",
       "      <td>im going thing feeling barely sleep nothing th...</td>\n",
       "      <td>first want let know alone feeling always someo...</td>\n",
       "    </tr>\n",
       "    <tr>\n",
       "      <th>5</th>\n",
       "      <td>im going thing feeling barely sleep nothing th...</td>\n",
       "      <td>heck sure thing hunfeelings depression deeplyr...</td>\n",
       "    </tr>\n",
       "    <tr>\n",
       "      <th>6</th>\n",
       "      <td>im going thing feeling barely sleep nothing th...</td>\n",
       "      <td>exhibiting specific trait particular temperame...</td>\n",
       "    </tr>\n",
       "    <tr>\n",
       "      <th>7</th>\n",
       "      <td>im going thing feeling barely sleep nothing th...</td>\n",
       "      <td>intense depression liar sometimes depression p...</td>\n",
       "    </tr>\n",
       "    <tr>\n",
       "      <th>8</th>\n",
       "      <td>im going thing feeling barely sleep nothing th...</td>\n",
       "      <td>sound like may putting last wrote want fix iss...</td>\n",
       "    </tr>\n",
       "    <tr>\n",
       "      <th>9</th>\n",
       "      <td>im going thing feeling barely sleep nothing th...</td>\n",
       "      <td>must really difficult experience going right t...</td>\n",
       "    </tr>\n",
       "  </tbody>\n",
       "</table>\n",
       "</div>"
      ],
      "text/plain": [
       "                                     Cleaned_Context  \\\n",
       "0  im going thing feeling barely sleep nothing th...   \n",
       "1  im going thing feeling barely sleep nothing th...   \n",
       "2  im going thing feeling barely sleep nothing th...   \n",
       "3  im going thing feeling barely sleep nothing th...   \n",
       "4  im going thing feeling barely sleep nothing th...   \n",
       "5  im going thing feeling barely sleep nothing th...   \n",
       "6  im going thing feeling barely sleep nothing th...   \n",
       "7  im going thing feeling barely sleep nothing th...   \n",
       "8  im going thing feeling barely sleep nothing th...   \n",
       "9  im going thing feeling barely sleep nothing th...   \n",
       "\n",
       "                                    Cleaned_Response  \n",
       "0  everyone think youre worthless maybe need find...  \n",
       "1  hello thank question seeking advice feeling wo...  \n",
       "2  first thing id suggest getting sleep need impa...  \n",
       "3  therapy essential feeling depressed worthless ...  \n",
       "4  first want let know alone feeling always someo...  \n",
       "5  heck sure thing hunfeelings depression deeplyr...  \n",
       "6  exhibiting specific trait particular temperame...  \n",
       "7  intense depression liar sometimes depression p...  \n",
       "8  sound like may putting last wrote want fix iss...  \n",
       "9  must really difficult experience going right t...  "
      ]
     },
     "execution_count": 40,
     "metadata": {},
     "output_type": "execute_result"
    }
   ],
   "source": [
    "# Show First 10 rows of cleaned data\n",
    "df[['Cleaned_Context', 'Cleaned_Response']].head(10)"
   ]
  },
  {
   "cell_type": "code",
   "execution_count": 42,
   "id": "54202790-dab6-417d-9e68-d8bcb528f73b",
   "metadata": {},
   "outputs": [
    {
     "name": "stdout",
     "output_type": "stream",
     "text": [
      "Preprocessing complete! Cleaned dataset saved as 'cleaned_counseling_conversations.csv'.\n"
     ]
    }
   ],
   "source": [
    "# Save cleaned dataset\n",
    "df.to_csv(\"cleaned_counseling_conversations.csv\", index=False)\n",
    "print(\"Preprocessing complete! Cleaned dataset saved as 'cleaned_counseling_conversations.csv'.\")"
   ]
  },
  {
   "cell_type": "markdown",
   "id": "cacc3932-a36c-42cc-a140-44f950e80908",
   "metadata": {},
   "source": [
    "# Dataset 2: Mental Health FAQ for Chatbot"
   ]
  },
  {
   "cell_type": "markdown",
   "id": "d02a1032-98e7-4da7-b709-ed9c546f4ef8",
   "metadata": {},
   "source": [
    "Source: Kaggle\n",
    "Dataset: Mental Health FAQ for Chatbot\n",
    "Dataset Link : https://www.kaggle.com/datasets/narendrageek/mental-health-faq-for-chatbot"
   ]
  },
  {
   "cell_type": "code",
   "execution_count": 47,
   "id": "15809abd-30e5-4a60-b5ba-63aa9fc47e51",
   "metadata": {},
   "outputs": [
    {
     "data": {
      "text/html": [
       "<div>\n",
       "<style scoped>\n",
       "    .dataframe tbody tr th:only-of-type {\n",
       "        vertical-align: middle;\n",
       "    }\n",
       "\n",
       "    .dataframe tbody tr th {\n",
       "        vertical-align: top;\n",
       "    }\n",
       "\n",
       "    .dataframe thead th {\n",
       "        text-align: right;\n",
       "    }\n",
       "</style>\n",
       "<table border=\"1\" class=\"dataframe\">\n",
       "  <thead>\n",
       "    <tr style=\"text-align: right;\">\n",
       "      <th></th>\n",
       "      <th>Question_ID</th>\n",
       "      <th>Questions</th>\n",
       "      <th>Answers</th>\n",
       "    </tr>\n",
       "  </thead>\n",
       "  <tbody>\n",
       "    <tr>\n",
       "      <th>0</th>\n",
       "      <td>1590140</td>\n",
       "      <td>What does it mean to have a mental illness?</td>\n",
       "      <td>Mental illnesses are health conditions that di...</td>\n",
       "    </tr>\n",
       "    <tr>\n",
       "      <th>1</th>\n",
       "      <td>2110618</td>\n",
       "      <td>Who does mental illness affect?</td>\n",
       "      <td>It is estimated that mental illness affects 1 ...</td>\n",
       "    </tr>\n",
       "    <tr>\n",
       "      <th>2</th>\n",
       "      <td>6361820</td>\n",
       "      <td>What causes mental illness?</td>\n",
       "      <td>It is estimated that mental illness affects 1 ...</td>\n",
       "    </tr>\n",
       "    <tr>\n",
       "      <th>3</th>\n",
       "      <td>9434130</td>\n",
       "      <td>What are some of the warning signs of mental i...</td>\n",
       "      <td>Symptoms of mental health disorders vary depen...</td>\n",
       "    </tr>\n",
       "    <tr>\n",
       "      <th>4</th>\n",
       "      <td>7657263</td>\n",
       "      <td>Can people with mental illness recover?</td>\n",
       "      <td>When healing from mental illness, early identi...</td>\n",
       "    </tr>\n",
       "    <tr>\n",
       "      <th>5</th>\n",
       "      <td>1619387</td>\n",
       "      <td>What should I do if I know someone who appears...</td>\n",
       "      <td>Although this website cannot substitute for pr...</td>\n",
       "    </tr>\n",
       "    <tr>\n",
       "      <th>6</th>\n",
       "      <td>1030153</td>\n",
       "      <td>How can I find a mental health professional fo...</td>\n",
       "      <td>Feeling comfortable with the professional you ...</td>\n",
       "    </tr>\n",
       "    <tr>\n",
       "      <th>7</th>\n",
       "      <td>8022026</td>\n",
       "      <td>What treatment options are available?</td>\n",
       "      <td>Just as there are different types of medicatio...</td>\n",
       "    </tr>\n",
       "    <tr>\n",
       "      <th>8</th>\n",
       "      <td>1155199</td>\n",
       "      <td>If I become involved in treatment, what do I n...</td>\n",
       "      <td>Since beginning treatment is a big step for in...</td>\n",
       "    </tr>\n",
       "    <tr>\n",
       "      <th>9</th>\n",
       "      <td>7760466</td>\n",
       "      <td>What is the difference between mental health p...</td>\n",
       "      <td>There are many types of mental health professi...</td>\n",
       "    </tr>\n",
       "  </tbody>\n",
       "</table>\n",
       "</div>"
      ],
      "text/plain": [
       "   Question_ID                                          Questions  \\\n",
       "0      1590140        What does it mean to have a mental illness?   \n",
       "1      2110618                    Who does mental illness affect?   \n",
       "2      6361820                        What causes mental illness?   \n",
       "3      9434130  What are some of the warning signs of mental i...   \n",
       "4      7657263            Can people with mental illness recover?   \n",
       "5      1619387  What should I do if I know someone who appears...   \n",
       "6      1030153  How can I find a mental health professional fo...   \n",
       "7      8022026              What treatment options are available?   \n",
       "8      1155199  If I become involved in treatment, what do I n...   \n",
       "9      7760466  What is the difference between mental health p...   \n",
       "\n",
       "                                             Answers  \n",
       "0  Mental illnesses are health conditions that di...  \n",
       "1  It is estimated that mental illness affects 1 ...  \n",
       "2  It is estimated that mental illness affects 1 ...  \n",
       "3  Symptoms of mental health disorders vary depen...  \n",
       "4  When healing from mental illness, early identi...  \n",
       "5  Although this website cannot substitute for pr...  \n",
       "6  Feeling comfortable with the professional you ...  \n",
       "7  Just as there are different types of medicatio...  \n",
       "8  Since beginning treatment is a big step for in...  \n",
       "9  There are many types of mental health professi...  "
      ]
     },
     "execution_count": 47,
     "metadata": {},
     "output_type": "execute_result"
    }
   ],
   "source": [
    "# Load the dataset\n",
    "df2 = pd.read_csv(\"/Users/satwik/Downloads/Mental_Health_FAQ.csv\")\n",
    "\n",
    "# Display first 10 rows\n",
    "df2.head(10)"
   ]
  },
  {
   "cell_type": "code",
   "execution_count": 49,
   "id": "04327bc3-621c-4073-8839-d9db806e42b2",
   "metadata": {},
   "outputs": [
    {
     "data": {
      "text/html": [
       "<div>\n",
       "<style scoped>\n",
       "    .dataframe tbody tr th:only-of-type {\n",
       "        vertical-align: middle;\n",
       "    }\n",
       "\n",
       "    .dataframe tbody tr th {\n",
       "        vertical-align: top;\n",
       "    }\n",
       "\n",
       "    .dataframe thead th {\n",
       "        text-align: right;\n",
       "    }\n",
       "</style>\n",
       "<table border=\"1\" class=\"dataframe\">\n",
       "  <thead>\n",
       "    <tr style=\"text-align: right;\">\n",
       "      <th></th>\n",
       "      <th>Questions</th>\n",
       "      <th>Answers</th>\n",
       "    </tr>\n",
       "  </thead>\n",
       "  <tbody>\n",
       "    <tr>\n",
       "      <th>0</th>\n",
       "      <td>What does it mean to have a mental illness?</td>\n",
       "      <td>Mental illnesses are health conditions that di...</td>\n",
       "    </tr>\n",
       "    <tr>\n",
       "      <th>1</th>\n",
       "      <td>Who does mental illness affect?</td>\n",
       "      <td>It is estimated that mental illness affects 1 ...</td>\n",
       "    </tr>\n",
       "    <tr>\n",
       "      <th>2</th>\n",
       "      <td>What causes mental illness?</td>\n",
       "      <td>It is estimated that mental illness affects 1 ...</td>\n",
       "    </tr>\n",
       "    <tr>\n",
       "      <th>3</th>\n",
       "      <td>What are some of the warning signs of mental i...</td>\n",
       "      <td>Symptoms of mental health disorders vary depen...</td>\n",
       "    </tr>\n",
       "    <tr>\n",
       "      <th>4</th>\n",
       "      <td>Can people with mental illness recover?</td>\n",
       "      <td>When healing from mental illness, early identi...</td>\n",
       "    </tr>\n",
       "    <tr>\n",
       "      <th>5</th>\n",
       "      <td>What should I do if I know someone who appears...</td>\n",
       "      <td>Although this website cannot substitute for pr...</td>\n",
       "    </tr>\n",
       "    <tr>\n",
       "      <th>6</th>\n",
       "      <td>How can I find a mental health professional fo...</td>\n",
       "      <td>Feeling comfortable with the professional you ...</td>\n",
       "    </tr>\n",
       "    <tr>\n",
       "      <th>7</th>\n",
       "      <td>What treatment options are available?</td>\n",
       "      <td>Just as there are different types of medicatio...</td>\n",
       "    </tr>\n",
       "    <tr>\n",
       "      <th>8</th>\n",
       "      <td>If I become involved in treatment, what do I n...</td>\n",
       "      <td>Since beginning treatment is a big step for in...</td>\n",
       "    </tr>\n",
       "    <tr>\n",
       "      <th>9</th>\n",
       "      <td>What is the difference between mental health p...</td>\n",
       "      <td>There are many types of mental health professi...</td>\n",
       "    </tr>\n",
       "  </tbody>\n",
       "</table>\n",
       "</div>"
      ],
      "text/plain": [
       "                                           Questions  \\\n",
       "0        What does it mean to have a mental illness?   \n",
       "1                    Who does mental illness affect?   \n",
       "2                        What causes mental illness?   \n",
       "3  What are some of the warning signs of mental i...   \n",
       "4            Can people with mental illness recover?   \n",
       "5  What should I do if I know someone who appears...   \n",
       "6  How can I find a mental health professional fo...   \n",
       "7              What treatment options are available?   \n",
       "8  If I become involved in treatment, what do I n...   \n",
       "9  What is the difference between mental health p...   \n",
       "\n",
       "                                             Answers  \n",
       "0  Mental illnesses are health conditions that di...  \n",
       "1  It is estimated that mental illness affects 1 ...  \n",
       "2  It is estimated that mental illness affects 1 ...  \n",
       "3  Symptoms of mental health disorders vary depen...  \n",
       "4  When healing from mental illness, early identi...  \n",
       "5  Although this website cannot substitute for pr...  \n",
       "6  Feeling comfortable with the professional you ...  \n",
       "7  Just as there are different types of medicatio...  \n",
       "8  Since beginning treatment is a big step for in...  \n",
       "9  There are many types of mental health professi...  "
      ]
     },
     "execution_count": 49,
     "metadata": {},
     "output_type": "execute_result"
    }
   ],
   "source": [
    "# Drop the 'Question_ID' column as it's not useful for training\n",
    "df2 = df2.drop(columns=['Question_ID'])\n",
    "\n",
    "# Verify the change\n",
    "df2.head(10)"
   ]
  },
  {
   "cell_type": "code",
   "execution_count": 61,
   "id": "15cac3a1-41d5-46f7-b330-18863dacb05b",
   "metadata": {},
   "outputs": [
    {
     "name": "stdout",
     "output_type": "stream",
     "text": [
      "Number of rows in the dataset: 98\n"
     ]
    }
   ],
   "source": [
    "print(f\"Number of rows in the dataset: {df2.shape[0]}\")"
   ]
  },
  {
   "cell_type": "code",
   "execution_count": 59,
   "id": "1c943a39-d420-4be3-a137-8c4de2a4e024",
   "metadata": {},
   "outputs": [
    {
     "name": "stdout",
     "output_type": "stream",
     "text": [
      "<class 'pandas.core.frame.DataFrame'>\n",
      "RangeIndex: 98 entries, 0 to 97\n",
      "Data columns (total 2 columns):\n",
      " #   Column     Non-Null Count  Dtype \n",
      "---  ------     --------------  ----- \n",
      " 0   Questions  98 non-null     object\n",
      " 1   Answers    98 non-null     object\n",
      "dtypes: object(2)\n",
      "memory usage: 1.7+ KB\n"
     ]
    }
   ],
   "source": [
    "df2.info()"
   ]
  },
  {
   "cell_type": "markdown",
   "id": "e01cbe94-10ff-435a-ac78-bb249cebd791",
   "metadata": {},
   "source": [
    "## Handle Missing Data\n",
    "\n",
    "- Drop rows where either Question or Answer is missing"
   ]
  },
  {
   "cell_type": "code",
   "execution_count": 53,
   "id": "2b1def43-98f9-400b-bd7a-3b92d4891ecb",
   "metadata": {},
   "outputs": [
    {
     "name": "stdout",
     "output_type": "stream",
     "text": [
      "Missing values before handling:\n",
      "Questions    0\n",
      "Answers      0\n",
      "dtype: int64\n"
     ]
    }
   ],
   "source": [
    "# Check for missing values\n",
    "print(\"Missing values before handling:\")\n",
    "print(df2.isnull().sum())"
   ]
  },
  {
   "cell_type": "markdown",
   "id": "56d4dcc3-a062-41dc-b8c4-c1067a338fee",
   "metadata": {},
   "source": [
    "This indicates that there are no missing values in this dataset, so we don’t need to apply any Missing value handling techniques"
   ]
  },
  {
   "cell_type": "markdown",
   "id": "731edf6b-c49f-4d68-a8a6-b9377b78aa3e",
   "metadata": {},
   "source": [
    "## Remove Duplicate Questions\n",
    "- Ensure each question has a unique entry"
   ]
  },
  {
   "cell_type": "code",
   "execution_count": 66,
   "id": "954f2527-620b-4d29-bf54-d35d89e6daad",
   "metadata": {},
   "outputs": [
    {
     "name": "stdout",
     "output_type": "stream",
     "text": [
      "Dataset size after duplicate removal: (98, 2)\n"
     ]
    }
   ],
   "source": [
    "# Remove duplicate questions\n",
    "df2 = df2.drop_duplicates(subset=['Questions'])\n",
    "\n",
    "# Display dataset size after removing duplicates\n",
    "print(f\"Dataset size after duplicate removal: {df2.shape}\")"
   ]
  },
  {
   "cell_type": "markdown",
   "id": "95efc059-f0f5-4eea-9a52-2e6b389c4e23",
   "metadata": {},
   "source": [
    "This indicates that \"There are no Duplicate Questions in this Dataset\""
   ]
  },
  {
   "cell_type": "markdown",
   "id": "172ee8e2-4a7b-4edf-9c3f-74ae21ee1bc1",
   "metadata": {},
   "source": [
    "## Text Cleaning (NLP Preprocessing)\n",
    "- Convert text to lowercase\n",
    "- Remove punctuation & special characters\n",
    "- Remove stopwords\n",
    "- Apply lemmatization"
   ]
  },
  {
   "cell_type": "code",
   "execution_count": 72,
   "id": "61e6a788-df11-46e0-9e85-520f729f7c95",
   "metadata": {},
   "outputs": [],
   "source": [
    "# Initialize NLP tools\n",
    "lemmatizer = WordNetLemmatizer()\n",
    "stop_words = set(stopwords.words('english'))\n",
    "\n",
    "# Function to clean text\n",
    "def clean_text(text):\n",
    "    text = text.lower()  # Convert to lowercase\n",
    "    text = re.sub(r'[^a-zA-Z\\s]', '', text)  # Remove special characters & punctuation\n",
    "    text = ' '.join([word for word in text.split() if word not in stop_words])  # Remove stopwords\n",
    "    text = ' '.join([lemmatizer.lemmatize(word) for word in text.split()])  # Apply lemmatization\n",
    "    return text\n",
    "\n",
    "# Apply text cleaning\n",
    "df2['Cleaned_Questions'] = df2['Questions'].apply(clean_text)\n",
    "df2['Cleaned_Answers'] = df2['Answers'].apply(clean_text)"
   ]
  },
  {
   "cell_type": "code",
   "execution_count": 74,
   "id": "628623e5-a4a9-4e01-8980-0ea23918089b",
   "metadata": {},
   "outputs": [
    {
     "data": {
      "text/html": [
       "<div>\n",
       "<style scoped>\n",
       "    .dataframe tbody tr th:only-of-type {\n",
       "        vertical-align: middle;\n",
       "    }\n",
       "\n",
       "    .dataframe tbody tr th {\n",
       "        vertical-align: top;\n",
       "    }\n",
       "\n",
       "    .dataframe thead th {\n",
       "        text-align: right;\n",
       "    }\n",
       "</style>\n",
       "<table border=\"1\" class=\"dataframe\">\n",
       "  <thead>\n",
       "    <tr style=\"text-align: right;\">\n",
       "      <th></th>\n",
       "      <th>Cleaned_Questions</th>\n",
       "      <th>Cleaned_Answers</th>\n",
       "    </tr>\n",
       "  </thead>\n",
       "  <tbody>\n",
       "    <tr>\n",
       "      <th>0</th>\n",
       "      <td>mean mental illness</td>\n",
       "      <td>mental illness health condition disrupt person...</td>\n",
       "    </tr>\n",
       "    <tr>\n",
       "      <th>1</th>\n",
       "      <td>mental illness affect</td>\n",
       "      <td>estimated mental illness affect adult america ...</td>\n",
       "    </tr>\n",
       "    <tr>\n",
       "      <th>2</th>\n",
       "      <td>cause mental illness</td>\n",
       "      <td>estimated mental illness affect adult america ...</td>\n",
       "    </tr>\n",
       "    <tr>\n",
       "      <th>3</th>\n",
       "      <td>warning sign mental illness</td>\n",
       "      <td>symptom mental health disorder vary depending ...</td>\n",
       "    </tr>\n",
       "    <tr>\n",
       "      <th>4</th>\n",
       "      <td>people mental illness recover</td>\n",
       "      <td>healing mental illness early identification tr...</td>\n",
       "    </tr>\n",
       "    <tr>\n",
       "      <th>5</th>\n",
       "      <td>know someone appears symptom mental disorder</td>\n",
       "      <td>although website cannot substitute professiona...</td>\n",
       "    </tr>\n",
       "    <tr>\n",
       "      <th>6</th>\n",
       "      <td>find mental health professional child</td>\n",
       "      <td>feeling comfortable professional child working...</td>\n",
       "    </tr>\n",
       "    <tr>\n",
       "      <th>7</th>\n",
       "      <td>treatment option available</td>\n",
       "      <td>different type medication physical illness dif...</td>\n",
       "    </tr>\n",
       "    <tr>\n",
       "      <th>8</th>\n",
       "      <td>become involved treatment need know</td>\n",
       "      <td>since beginning treatment big step individual ...</td>\n",
       "    </tr>\n",
       "    <tr>\n",
       "      <th>9</th>\n",
       "      <td>difference mental health professional</td>\n",
       "      <td>many type mental health professional variety p...</td>\n",
       "    </tr>\n",
       "  </tbody>\n",
       "</table>\n",
       "</div>"
      ],
      "text/plain": [
       "                              Cleaned_Questions  \\\n",
       "0                           mean mental illness   \n",
       "1                         mental illness affect   \n",
       "2                          cause mental illness   \n",
       "3                   warning sign mental illness   \n",
       "4                 people mental illness recover   \n",
       "5  know someone appears symptom mental disorder   \n",
       "6         find mental health professional child   \n",
       "7                    treatment option available   \n",
       "8           become involved treatment need know   \n",
       "9         difference mental health professional   \n",
       "\n",
       "                                     Cleaned_Answers  \n",
       "0  mental illness health condition disrupt person...  \n",
       "1  estimated mental illness affect adult america ...  \n",
       "2  estimated mental illness affect adult america ...  \n",
       "3  symptom mental health disorder vary depending ...  \n",
       "4  healing mental illness early identification tr...  \n",
       "5  although website cannot substitute professiona...  \n",
       "6  feeling comfortable professional child working...  \n",
       "7  different type medication physical illness dif...  \n",
       "8  since beginning treatment big step individual ...  \n",
       "9  many type mental health professional variety p...  "
      ]
     },
     "execution_count": 74,
     "metadata": {},
     "output_type": "execute_result"
    }
   ],
   "source": [
    "# Showing Sample cleaned data\n",
    "df2[['Cleaned_Questions', 'Cleaned_Answers']].head(10)"
   ]
  },
  {
   "cell_type": "code",
   "execution_count": 76,
   "id": "06f788dd-9851-4b14-b0eb-49cfc803c8e4",
   "metadata": {},
   "outputs": [
    {
     "name": "stdout",
     "output_type": "stream",
     "text": [
      "Preprocessing complete! Cleaned dataset saved as 'cleaned_mental_health_faq.csv'.\n"
     ]
    }
   ],
   "source": [
    "# Save cleaned dataset\n",
    "df2.to_csv(\"cleaned_mental_health_faq.csv\", index=False)\n",
    "print(\"Preprocessing complete! Cleaned dataset saved as 'cleaned_mental_health_faq.csv'.\")"
   ]
  },
  {
   "cell_type": "markdown",
   "id": "4fdc4b4d-dd61-4744-b0d5-25df50373b59",
   "metadata": {},
   "source": [
    "# Dataset 3: Sentiment Analysis for Mental Health\n",
    "\n",
    "Source: Kaggle\n",
    "Dataset: Sentiment Analysis for Mental Health\n",
    "Dataset Link : https://www.kaggle.com/datasets/suchintikasarkar/sentiment-analysis-for-mental-health"
   ]
  },
  {
   "cell_type": "code",
   "execution_count": 81,
   "id": "94fe1457-0713-4c41-952f-ca243ff4e39e",
   "metadata": {},
   "outputs": [
    {
     "data": {
      "text/html": [
       "<div>\n",
       "<style scoped>\n",
       "    .dataframe tbody tr th:only-of-type {\n",
       "        vertical-align: middle;\n",
       "    }\n",
       "\n",
       "    .dataframe tbody tr th {\n",
       "        vertical-align: top;\n",
       "    }\n",
       "\n",
       "    .dataframe thead th {\n",
       "        text-align: right;\n",
       "    }\n",
       "</style>\n",
       "<table border=\"1\" class=\"dataframe\">\n",
       "  <thead>\n",
       "    <tr style=\"text-align: right;\">\n",
       "      <th></th>\n",
       "      <th>Unnamed: 0</th>\n",
       "      <th>statement</th>\n",
       "      <th>status</th>\n",
       "    </tr>\n",
       "  </thead>\n",
       "  <tbody>\n",
       "    <tr>\n",
       "      <th>0</th>\n",
       "      <td>0</td>\n",
       "      <td>oh my gosh</td>\n",
       "      <td>Anxiety</td>\n",
       "    </tr>\n",
       "    <tr>\n",
       "      <th>1</th>\n",
       "      <td>1</td>\n",
       "      <td>trouble sleeping, confused mind, restless hear...</td>\n",
       "      <td>Anxiety</td>\n",
       "    </tr>\n",
       "    <tr>\n",
       "      <th>2</th>\n",
       "      <td>2</td>\n",
       "      <td>All wrong, back off dear, forward doubt. Stay ...</td>\n",
       "      <td>Anxiety</td>\n",
       "    </tr>\n",
       "    <tr>\n",
       "      <th>3</th>\n",
       "      <td>3</td>\n",
       "      <td>I've shifted my focus to something else but I'...</td>\n",
       "      <td>Anxiety</td>\n",
       "    </tr>\n",
       "    <tr>\n",
       "      <th>4</th>\n",
       "      <td>4</td>\n",
       "      <td>I'm restless and restless, it's been a month n...</td>\n",
       "      <td>Anxiety</td>\n",
       "    </tr>\n",
       "    <tr>\n",
       "      <th>5</th>\n",
       "      <td>5</td>\n",
       "      <td>every break, you must be nervous, like somethi...</td>\n",
       "      <td>Anxiety</td>\n",
       "    </tr>\n",
       "    <tr>\n",
       "      <th>6</th>\n",
       "      <td>6</td>\n",
       "      <td>I feel scared, anxious, what can I do? And may...</td>\n",
       "      <td>Anxiety</td>\n",
       "    </tr>\n",
       "    <tr>\n",
       "      <th>7</th>\n",
       "      <td>7</td>\n",
       "      <td>Have you ever felt nervous but didn't know why?</td>\n",
       "      <td>Anxiety</td>\n",
       "    </tr>\n",
       "    <tr>\n",
       "      <th>8</th>\n",
       "      <td>8</td>\n",
       "      <td>I haven't slept well for 2 days, it's like I'm...</td>\n",
       "      <td>Anxiety</td>\n",
       "    </tr>\n",
       "    <tr>\n",
       "      <th>9</th>\n",
       "      <td>9</td>\n",
       "      <td>I'm really worried, I want to cry.</td>\n",
       "      <td>Anxiety</td>\n",
       "    </tr>\n",
       "  </tbody>\n",
       "</table>\n",
       "</div>"
      ],
      "text/plain": [
       "   Unnamed: 0                                          statement   status\n",
       "0           0                                         oh my gosh  Anxiety\n",
       "1           1  trouble sleeping, confused mind, restless hear...  Anxiety\n",
       "2           2  All wrong, back off dear, forward doubt. Stay ...  Anxiety\n",
       "3           3  I've shifted my focus to something else but I'...  Anxiety\n",
       "4           4  I'm restless and restless, it's been a month n...  Anxiety\n",
       "5           5  every break, you must be nervous, like somethi...  Anxiety\n",
       "6           6  I feel scared, anxious, what can I do? And may...  Anxiety\n",
       "7           7    Have you ever felt nervous but didn't know why?  Anxiety\n",
       "8           8  I haven't slept well for 2 days, it's like I'm...  Anxiety\n",
       "9           9                 I'm really worried, I want to cry.  Anxiety"
      ]
     },
     "execution_count": 81,
     "metadata": {},
     "output_type": "execute_result"
    }
   ],
   "source": [
    "# Load the dataset\n",
    "df3 = pd.read_csv(\"/Users/satwik/Downloads/Sentiment_Analysis.csv\")\n",
    "\n",
    "# Display first 10 rows\n",
    "df3.head(10)"
   ]
  },
  {
   "cell_type": "code",
   "execution_count": 83,
   "id": "39e7c246-bd19-4c80-80a0-afe0308b6402",
   "metadata": {},
   "outputs": [
    {
     "data": {
      "text/html": [
       "<div>\n",
       "<style scoped>\n",
       "    .dataframe tbody tr th:only-of-type {\n",
       "        vertical-align: middle;\n",
       "    }\n",
       "\n",
       "    .dataframe tbody tr th {\n",
       "        vertical-align: top;\n",
       "    }\n",
       "\n",
       "    .dataframe thead th {\n",
       "        text-align: right;\n",
       "    }\n",
       "</style>\n",
       "<table border=\"1\" class=\"dataframe\">\n",
       "  <thead>\n",
       "    <tr style=\"text-align: right;\">\n",
       "      <th></th>\n",
       "      <th>statement</th>\n",
       "      <th>status</th>\n",
       "    </tr>\n",
       "  </thead>\n",
       "  <tbody>\n",
       "    <tr>\n",
       "      <th>0</th>\n",
       "      <td>oh my gosh</td>\n",
       "      <td>Anxiety</td>\n",
       "    </tr>\n",
       "    <tr>\n",
       "      <th>1</th>\n",
       "      <td>trouble sleeping, confused mind, restless hear...</td>\n",
       "      <td>Anxiety</td>\n",
       "    </tr>\n",
       "    <tr>\n",
       "      <th>2</th>\n",
       "      <td>All wrong, back off dear, forward doubt. Stay ...</td>\n",
       "      <td>Anxiety</td>\n",
       "    </tr>\n",
       "    <tr>\n",
       "      <th>3</th>\n",
       "      <td>I've shifted my focus to something else but I'...</td>\n",
       "      <td>Anxiety</td>\n",
       "    </tr>\n",
       "    <tr>\n",
       "      <th>4</th>\n",
       "      <td>I'm restless and restless, it's been a month n...</td>\n",
       "      <td>Anxiety</td>\n",
       "    </tr>\n",
       "    <tr>\n",
       "      <th>5</th>\n",
       "      <td>every break, you must be nervous, like somethi...</td>\n",
       "      <td>Anxiety</td>\n",
       "    </tr>\n",
       "    <tr>\n",
       "      <th>6</th>\n",
       "      <td>I feel scared, anxious, what can I do? And may...</td>\n",
       "      <td>Anxiety</td>\n",
       "    </tr>\n",
       "    <tr>\n",
       "      <th>7</th>\n",
       "      <td>Have you ever felt nervous but didn't know why?</td>\n",
       "      <td>Anxiety</td>\n",
       "    </tr>\n",
       "    <tr>\n",
       "      <th>8</th>\n",
       "      <td>I haven't slept well for 2 days, it's like I'm...</td>\n",
       "      <td>Anxiety</td>\n",
       "    </tr>\n",
       "    <tr>\n",
       "      <th>9</th>\n",
       "      <td>I'm really worried, I want to cry.</td>\n",
       "      <td>Anxiety</td>\n",
       "    </tr>\n",
       "  </tbody>\n",
       "</table>\n",
       "</div>"
      ],
      "text/plain": [
       "                                           statement   status\n",
       "0                                         oh my gosh  Anxiety\n",
       "1  trouble sleeping, confused mind, restless hear...  Anxiety\n",
       "2  All wrong, back off dear, forward doubt. Stay ...  Anxiety\n",
       "3  I've shifted my focus to something else but I'...  Anxiety\n",
       "4  I'm restless and restless, it's been a month n...  Anxiety\n",
       "5  every break, you must be nervous, like somethi...  Anxiety\n",
       "6  I feel scared, anxious, what can I do? And may...  Anxiety\n",
       "7    Have you ever felt nervous but didn't know why?  Anxiety\n",
       "8  I haven't slept well for 2 days, it's like I'm...  Anxiety\n",
       "9                 I'm really worried, I want to cry.  Anxiety"
      ]
     },
     "execution_count": 83,
     "metadata": {},
     "output_type": "execute_result"
    }
   ],
   "source": [
    "# Drop the unnecessary \"Unnamed: 0\" column\n",
    "df3 = df3.drop(columns=['Unnamed: 0'], errors='ignore')\n",
    "\n",
    "# Verify the change\n",
    "df3.head(10)"
   ]
  },
  {
   "cell_type": "code",
   "execution_count": 86,
   "id": "b0b312bd-974d-45ba-ba79-0d9d5c066e1a",
   "metadata": {},
   "outputs": [
    {
     "name": "stdout",
     "output_type": "stream",
     "text": [
      "Number of rows in the dataset: 53043\n"
     ]
    }
   ],
   "source": [
    "print(f\"Number of rows in the dataset: {df3.shape[0]}\")"
   ]
  },
  {
   "cell_type": "code",
   "execution_count": 88,
   "id": "26d35d22-e282-4955-859d-7576effd68b6",
   "metadata": {},
   "outputs": [
    {
     "name": "stdout",
     "output_type": "stream",
     "text": [
      "<class 'pandas.core.frame.DataFrame'>\n",
      "RangeIndex: 53043 entries, 0 to 53042\n",
      "Data columns (total 2 columns):\n",
      " #   Column     Non-Null Count  Dtype \n",
      "---  ------     --------------  ----- \n",
      " 0   statement  52681 non-null  object\n",
      " 1   status     53043 non-null  object\n",
      "dtypes: object(2)\n",
      "memory usage: 828.9+ KB\n"
     ]
    }
   ],
   "source": [
    "df3.info()"
   ]
  },
  {
   "cell_type": "markdown",
   "id": "c59373d6-74d5-4633-90a3-7f48419a92bd",
   "metadata": {},
   "source": [
    "# Handle Missing Data\n",
    "- Drop rows where statement or status is missing"
   ]
  },
  {
   "cell_type": "code",
   "execution_count": 90,
   "id": "1ef54c03-5dce-4912-9554-e66a42349481",
   "metadata": {},
   "outputs": [
    {
     "name": "stdout",
     "output_type": "stream",
     "text": [
      "Missing values before handling:\n",
      "statement    362\n",
      "status         0\n",
      "dtype: int64\n"
     ]
    }
   ],
   "source": [
    "# Check for missing values\n",
    "print(\"Missing values before handling:\")\n",
    "print(df3.isnull().sum())"
   ]
  },
  {
   "cell_type": "markdown",
   "id": "8dd11ded-4ce5-41f3-8102-5b767408764d",
   "metadata": {},
   "source": [
    "There are 362 Missing values in 'statement' column so we drop them."
   ]
  },
  {
   "cell_type": "code",
   "execution_count": 93,
   "id": "f0f8bda4-caa7-4a74-9281-7c0bb9801ee3",
   "metadata": {},
   "outputs": [
    {
     "name": "stdout",
     "output_type": "stream",
     "text": [
      "\n",
      "Missing values after handling:\n",
      "statement    0\n",
      "status       0\n",
      "dtype: int64\n"
     ]
    }
   ],
   "source": [
    "# Drop rows where 'statement' or 'status' is missing\n",
    "df3 = df3.dropna(subset=['statement', 'status'])\n",
    "\n",
    "# Verify missing values are handled\n",
    "print(\"\\nMissing values after handling:\")\n",
    "print(df3.isnull().sum())"
   ]
  },
  {
   "cell_type": "code",
   "execution_count": 97,
   "id": "4aec23aa-9162-430d-ae41-01772a602fc8",
   "metadata": {},
   "outputs": [
    {
     "name": "stdout",
     "output_type": "stream",
     "text": [
      "<class 'pandas.core.frame.DataFrame'>\n",
      "Index: 52681 entries, 0 to 53042\n",
      "Data columns (total 2 columns):\n",
      " #   Column     Non-Null Count  Dtype \n",
      "---  ------     --------------  ----- \n",
      " 0   statement  52681 non-null  object\n",
      " 1   status     52681 non-null  object\n",
      "dtypes: object(2)\n",
      "memory usage: 1.2+ MB\n"
     ]
    },
    {
     "data": {
      "text/html": [
       "<div>\n",
       "<style scoped>\n",
       "    .dataframe tbody tr th:only-of-type {\n",
       "        vertical-align: middle;\n",
       "    }\n",
       "\n",
       "    .dataframe tbody tr th {\n",
       "        vertical-align: top;\n",
       "    }\n",
       "\n",
       "    .dataframe thead th {\n",
       "        text-align: right;\n",
       "    }\n",
       "</style>\n",
       "<table border=\"1\" class=\"dataframe\">\n",
       "  <thead>\n",
       "    <tr style=\"text-align: right;\">\n",
       "      <th></th>\n",
       "      <th>statement</th>\n",
       "      <th>status</th>\n",
       "    </tr>\n",
       "  </thead>\n",
       "  <tbody>\n",
       "    <tr>\n",
       "      <th>0</th>\n",
       "      <td>oh my gosh</td>\n",
       "      <td>Anxiety</td>\n",
       "    </tr>\n",
       "    <tr>\n",
       "      <th>1</th>\n",
       "      <td>trouble sleeping, confused mind, restless hear...</td>\n",
       "      <td>Anxiety</td>\n",
       "    </tr>\n",
       "    <tr>\n",
       "      <th>2</th>\n",
       "      <td>All wrong, back off dear, forward doubt. Stay ...</td>\n",
       "      <td>Anxiety</td>\n",
       "    </tr>\n",
       "    <tr>\n",
       "      <th>3</th>\n",
       "      <td>I've shifted my focus to something else but I'...</td>\n",
       "      <td>Anxiety</td>\n",
       "    </tr>\n",
       "    <tr>\n",
       "      <th>4</th>\n",
       "      <td>I'm restless and restless, it's been a month n...</td>\n",
       "      <td>Anxiety</td>\n",
       "    </tr>\n",
       "    <tr>\n",
       "      <th>5</th>\n",
       "      <td>every break, you must be nervous, like somethi...</td>\n",
       "      <td>Anxiety</td>\n",
       "    </tr>\n",
       "    <tr>\n",
       "      <th>6</th>\n",
       "      <td>I feel scared, anxious, what can I do? And may...</td>\n",
       "      <td>Anxiety</td>\n",
       "    </tr>\n",
       "    <tr>\n",
       "      <th>7</th>\n",
       "      <td>Have you ever felt nervous but didn't know why?</td>\n",
       "      <td>Anxiety</td>\n",
       "    </tr>\n",
       "    <tr>\n",
       "      <th>8</th>\n",
       "      <td>I haven't slept well for 2 days, it's like I'm...</td>\n",
       "      <td>Anxiety</td>\n",
       "    </tr>\n",
       "    <tr>\n",
       "      <th>9</th>\n",
       "      <td>I'm really worried, I want to cry.</td>\n",
       "      <td>Anxiety</td>\n",
       "    </tr>\n",
       "  </tbody>\n",
       "</table>\n",
       "</div>"
      ],
      "text/plain": [
       "                                           statement   status\n",
       "0                                         oh my gosh  Anxiety\n",
       "1  trouble sleeping, confused mind, restless hear...  Anxiety\n",
       "2  All wrong, back off dear, forward doubt. Stay ...  Anxiety\n",
       "3  I've shifted my focus to something else but I'...  Anxiety\n",
       "4  I'm restless and restless, it's been a month n...  Anxiety\n",
       "5  every break, you must be nervous, like somethi...  Anxiety\n",
       "6  I feel scared, anxious, what can I do? And may...  Anxiety\n",
       "7    Have you ever felt nervous but didn't know why?  Anxiety\n",
       "8  I haven't slept well for 2 days, it's like I'm...  Anxiety\n",
       "9                 I'm really worried, I want to cry.  Anxiety"
      ]
     },
     "execution_count": 97,
     "metadata": {},
     "output_type": "execute_result"
    }
   ],
   "source": [
    "df3.info()\n",
    "df3.head(10)"
   ]
  },
  {
   "cell_type": "code",
   "execution_count": 99,
   "id": "0848cfd4-3d80-4740-bc1e-284d74069b71",
   "metadata": {},
   "outputs": [
    {
     "name": "stdout",
     "output_type": "stream",
     "text": [
      "Number of rows in the dataset after Removing Missing Values are: 52681\n"
     ]
    }
   ],
   "source": [
    "print(f\"Number of rows in the dataset after Removing Missing Values are: {df3.shape[0]}\")"
   ]
  },
  {
   "cell_type": "markdown",
   "id": "ac5f342b-9f24-4959-a5aa-88608a8ba594",
   "metadata": {},
   "source": [
    "## Normalize Text (NLP Preprocessing)\n",
    "- Convert to lowercase\n",
    "- Remove punctuation, special characters, and numbers\n",
    "- Remove stopwords\n",
    "- Apply lemmatization"
   ]
  },
  {
   "cell_type": "code",
   "execution_count": 105,
   "id": "2049df47-91f7-454e-9339-32ef21b4f35b",
   "metadata": {},
   "outputs": [],
   "source": [
    "# Initialize stopwords and lemmatizer\n",
    "lemmatizer = WordNetLemmatizer()\n",
    "stop_words = set(stopwords.words('english'))\n",
    "\n",
    "# Function to clean text\n",
    "def clean_text(text):\n",
    "    text = text.lower()  # Convert to lowercase\n",
    "    text = re.sub(r'[^a-zA-Z\\s]', '', text)  # Remove special characters, numbers, punctuation\n",
    "    text = ' '.join([word for word in text.split() if word not in stop_words])  # Remove stopwords\n",
    "    text = ' '.join([lemmatizer.lemmatize(word) for word in text.split()])  # Apply lemmatization\n",
    "    return text\n",
    "\n",
    "# Apply text cleaning\n",
    "df3['Cleaned_Statement'] = df3['statement'].apply(clean_text)"
   ]
  },
  {
   "cell_type": "code",
   "execution_count": 107,
   "id": "50320aaa-39b5-43b5-9ae8-079f1b9a6086",
   "metadata": {},
   "outputs": [
    {
     "data": {
      "text/html": [
       "<div>\n",
       "<style scoped>\n",
       "    .dataframe tbody tr th:only-of-type {\n",
       "        vertical-align: middle;\n",
       "    }\n",
       "\n",
       "    .dataframe tbody tr th {\n",
       "        vertical-align: top;\n",
       "    }\n",
       "\n",
       "    .dataframe thead th {\n",
       "        text-align: right;\n",
       "    }\n",
       "</style>\n",
       "<table border=\"1\" class=\"dataframe\">\n",
       "  <thead>\n",
       "    <tr style=\"text-align: right;\">\n",
       "      <th></th>\n",
       "      <th>Cleaned_Statement</th>\n",
       "      <th>status</th>\n",
       "    </tr>\n",
       "  </thead>\n",
       "  <tbody>\n",
       "    <tr>\n",
       "      <th>0</th>\n",
       "      <td>oh gosh</td>\n",
       "      <td>Anxiety</td>\n",
       "    </tr>\n",
       "    <tr>\n",
       "      <th>1</th>\n",
       "      <td>trouble sleeping confused mind restless heart ...</td>\n",
       "      <td>Anxiety</td>\n",
       "    </tr>\n",
       "    <tr>\n",
       "      <th>2</th>\n",
       "      <td>wrong back dear forward doubt stay restless re...</td>\n",
       "      <td>Anxiety</td>\n",
       "    </tr>\n",
       "    <tr>\n",
       "      <th>3</th>\n",
       "      <td>ive shifted focus something else im still worried</td>\n",
       "      <td>Anxiety</td>\n",
       "    </tr>\n",
       "    <tr>\n",
       "      <th>4</th>\n",
       "      <td>im restless restless month boy mean</td>\n",
       "      <td>Anxiety</td>\n",
       "    </tr>\n",
       "    <tr>\n",
       "      <th>5</th>\n",
       "      <td>every break must nervous like something wrong ...</td>\n",
       "      <td>Anxiety</td>\n",
       "    </tr>\n",
       "    <tr>\n",
       "      <th>6</th>\n",
       "      <td>feel scared anxious may family u protected</td>\n",
       "      <td>Anxiety</td>\n",
       "    </tr>\n",
       "    <tr>\n",
       "      <th>7</th>\n",
       "      <td>ever felt nervous didnt know</td>\n",
       "      <td>Anxiety</td>\n",
       "    </tr>\n",
       "    <tr>\n",
       "      <th>8</th>\n",
       "      <td>havent slept well day like im restless huh</td>\n",
       "      <td>Anxiety</td>\n",
       "    </tr>\n",
       "    <tr>\n",
       "      <th>9</th>\n",
       "      <td>im really worried want cry</td>\n",
       "      <td>Anxiety</td>\n",
       "    </tr>\n",
       "  </tbody>\n",
       "</table>\n",
       "</div>"
      ],
      "text/plain": [
       "                                   Cleaned_Statement   status\n",
       "0                                            oh gosh  Anxiety\n",
       "1  trouble sleeping confused mind restless heart ...  Anxiety\n",
       "2  wrong back dear forward doubt stay restless re...  Anxiety\n",
       "3  ive shifted focus something else im still worried  Anxiety\n",
       "4                im restless restless month boy mean  Anxiety\n",
       "5  every break must nervous like something wrong ...  Anxiety\n",
       "6         feel scared anxious may family u protected  Anxiety\n",
       "7                       ever felt nervous didnt know  Anxiety\n",
       "8         havent slept well day like im restless huh  Anxiety\n",
       "9                         im really worried want cry  Anxiety"
      ]
     },
     "execution_count": 107,
     "metadata": {},
     "output_type": "execute_result"
    }
   ],
   "source": [
    "# Show sample cleaned data\n",
    "df3[['Cleaned_Statement', 'status']].head(10)"
   ]
  },
  {
   "cell_type": "markdown",
   "id": "73bbccb4-ef30-45a5-ada6-9950084fac7b",
   "metadata": {},
   "source": [
    "## Encode 'status' Labels for Model Training\n",
    "- Since status is categorical (text), we convert it to numerical labels for Model training."
   ]
  },
  {
   "cell_type": "code",
   "execution_count": 110,
   "id": "95967c3d-1ae1-4c5e-baea-f16f7ddf519f",
   "metadata": {},
   "outputs": [],
   "source": [
    "# Define label encoding for mental health status\n",
    "label_mapping = {\n",
    "    'Normal': 0,\n",
    "    'Depression': 1,\n",
    "    'Suicidal': 2,\n",
    "    'Anxiety': 3,\n",
    "    'Stress': 4,\n",
    "    'Bi-Polar': 5,\n",
    "    'Personality Disorder': 6\n",
    "}\n",
    "\n",
    "# Apply encoding\n",
    "df3['Encoded_Status'] = df3['status'].map(label_mapping)"
   ]
  },
  {
   "cell_type": "code",
   "execution_count": 112,
   "id": "e2120eef-c707-4b97-8fc8-7fd8851f7626",
   "metadata": {},
   "outputs": [
    {
     "data": {
      "text/html": [
       "<div>\n",
       "<style scoped>\n",
       "    .dataframe tbody tr th:only-of-type {\n",
       "        vertical-align: middle;\n",
       "    }\n",
       "\n",
       "    .dataframe tbody tr th {\n",
       "        vertical-align: top;\n",
       "    }\n",
       "\n",
       "    .dataframe thead th {\n",
       "        text-align: right;\n",
       "    }\n",
       "</style>\n",
       "<table border=\"1\" class=\"dataframe\">\n",
       "  <thead>\n",
       "    <tr style=\"text-align: right;\">\n",
       "      <th></th>\n",
       "      <th>Cleaned_Statement</th>\n",
       "      <th>status</th>\n",
       "      <th>Encoded_Status</th>\n",
       "    </tr>\n",
       "  </thead>\n",
       "  <tbody>\n",
       "    <tr>\n",
       "      <th>0</th>\n",
       "      <td>oh gosh</td>\n",
       "      <td>Anxiety</td>\n",
       "      <td>3.0</td>\n",
       "    </tr>\n",
       "    <tr>\n",
       "      <th>1</th>\n",
       "      <td>trouble sleeping confused mind restless heart ...</td>\n",
       "      <td>Anxiety</td>\n",
       "      <td>3.0</td>\n",
       "    </tr>\n",
       "    <tr>\n",
       "      <th>2</th>\n",
       "      <td>wrong back dear forward doubt stay restless re...</td>\n",
       "      <td>Anxiety</td>\n",
       "      <td>3.0</td>\n",
       "    </tr>\n",
       "    <tr>\n",
       "      <th>3</th>\n",
       "      <td>ive shifted focus something else im still worried</td>\n",
       "      <td>Anxiety</td>\n",
       "      <td>3.0</td>\n",
       "    </tr>\n",
       "    <tr>\n",
       "      <th>4</th>\n",
       "      <td>im restless restless month boy mean</td>\n",
       "      <td>Anxiety</td>\n",
       "      <td>3.0</td>\n",
       "    </tr>\n",
       "    <tr>\n",
       "      <th>5</th>\n",
       "      <td>every break must nervous like something wrong ...</td>\n",
       "      <td>Anxiety</td>\n",
       "      <td>3.0</td>\n",
       "    </tr>\n",
       "    <tr>\n",
       "      <th>6</th>\n",
       "      <td>feel scared anxious may family u protected</td>\n",
       "      <td>Anxiety</td>\n",
       "      <td>3.0</td>\n",
       "    </tr>\n",
       "    <tr>\n",
       "      <th>7</th>\n",
       "      <td>ever felt nervous didnt know</td>\n",
       "      <td>Anxiety</td>\n",
       "      <td>3.0</td>\n",
       "    </tr>\n",
       "    <tr>\n",
       "      <th>8</th>\n",
       "      <td>havent slept well day like im restless huh</td>\n",
       "      <td>Anxiety</td>\n",
       "      <td>3.0</td>\n",
       "    </tr>\n",
       "    <tr>\n",
       "      <th>9</th>\n",
       "      <td>im really worried want cry</td>\n",
       "      <td>Anxiety</td>\n",
       "      <td>3.0</td>\n",
       "    </tr>\n",
       "    <tr>\n",
       "      <th>10</th>\n",
       "      <td>always restless every night even though dont k...</td>\n",
       "      <td>Anxiety</td>\n",
       "      <td>3.0</td>\n",
       "    </tr>\n",
       "    <tr>\n",
       "      <th>11</th>\n",
       "      <td>im confused im feeling good lately every time ...</td>\n",
       "      <td>Anxiety</td>\n",
       "      <td>3.0</td>\n",
       "    </tr>\n",
       "    <tr>\n",
       "      <th>12</th>\n",
       "      <td>sometimes needed problem laugh forget problem ...</td>\n",
       "      <td>Anxiety</td>\n",
       "      <td>3.0</td>\n",
       "    </tr>\n",
       "    <tr>\n",
       "      <th>13</th>\n",
       "      <td>worry</td>\n",
       "      <td>Anxiety</td>\n",
       "      <td>3.0</td>\n",
       "    </tr>\n",
       "    <tr>\n",
       "      <th>14</th>\n",
       "      <td>sometimes thought make anxious afraid close ey...</td>\n",
       "      <td>Anxiety</td>\n",
       "      <td>3.0</td>\n",
       "    </tr>\n",
       "    <tr>\n",
       "      <th>15</th>\n",
       "      <td>every time wake im definitely nervous excited ...</td>\n",
       "      <td>Anxiety</td>\n",
       "      <td>3.0</td>\n",
       "    </tr>\n",
       "    <tr>\n",
       "      <th>16</th>\n",
       "      <td>hope even though im worried start like</td>\n",
       "      <td>Anxiety</td>\n",
       "      <td>3.0</td>\n",
       "    </tr>\n",
       "    <tr>\n",
       "      <th>17</th>\n",
       "      <td>restive restless restless</td>\n",
       "      <td>Anxiety</td>\n",
       "      <td>3.0</td>\n",
       "    </tr>\n",
       "    <tr>\n",
       "      <th>18</th>\n",
       "      <td>regret grudgesangry thing passed worrying much...</td>\n",
       "      <td>Anxiety</td>\n",
       "      <td>3.0</td>\n",
       "    </tr>\n",
       "    <tr>\n",
       "      <th>19</th>\n",
       "      <td>guy sick girl actually feel sick indirectly mu...</td>\n",
       "      <td>Anxiety</td>\n",
       "      <td>3.0</td>\n",
       "    </tr>\n",
       "    <tr>\n",
       "      <th>20</th>\n",
       "      <td>ive anxious person became sincere person ive a...</td>\n",
       "      <td>Anxiety</td>\n",
       "      <td>3.0</td>\n",
       "    </tr>\n",
       "    <tr>\n",
       "      <th>21</th>\n",
       "      <td>successfully online even sleeping state restle...</td>\n",
       "      <td>Anxiety</td>\n",
       "      <td>3.0</td>\n",
       "    </tr>\n",
       "    <tr>\n",
       "      <th>22</th>\n",
       "      <td>cant sleep restless nature</td>\n",
       "      <td>Anxiety</td>\n",
       "      <td>3.0</td>\n",
       "    </tr>\n",
       "    <tr>\n",
       "      <th>23</th>\n",
       "      <td>already worried picking phone</td>\n",
       "      <td>Anxiety</td>\n",
       "      <td>3.0</td>\n",
       "    </tr>\n",
       "    <tr>\n",
       "      <th>24</th>\n",
       "      <td>little restless little restless always feel gu...</td>\n",
       "      <td>Anxiety</td>\n",
       "      <td>3.0</td>\n",
       "    </tr>\n",
       "    <tr>\n",
       "      <th>25</th>\n",
       "      <td>ive restless since morning</td>\n",
       "      <td>Anxiety</td>\n",
       "      <td>3.0</td>\n",
       "    </tr>\n",
       "    <tr>\n",
       "      <th>26</th>\n",
       "      <td>make feel restless</td>\n",
       "      <td>Anxiety</td>\n",
       "      <td>3.0</td>\n",
       "    </tr>\n",
       "    <tr>\n",
       "      <th>27</th>\n",
       "      <td>sleepy restless sleep</td>\n",
       "      <td>Anxiety</td>\n",
       "      <td>3.0</td>\n",
       "    </tr>\n",
       "    <tr>\n",
       "      <th>28</th>\n",
       "      <td>cave im already bad mood heart seems beating r...</td>\n",
       "      <td>Anxiety</td>\n",
       "      <td>3.0</td>\n",
       "    </tr>\n",
       "    <tr>\n",
       "      <th>29</th>\n",
       "      <td>busy restless geez whats going</td>\n",
       "      <td>Anxiety</td>\n",
       "      <td>3.0</td>\n",
       "    </tr>\n",
       "  </tbody>\n",
       "</table>\n",
       "</div>"
      ],
      "text/plain": [
       "                                    Cleaned_Statement   status  Encoded_Status\n",
       "0                                             oh gosh  Anxiety             3.0\n",
       "1   trouble sleeping confused mind restless heart ...  Anxiety             3.0\n",
       "2   wrong back dear forward doubt stay restless re...  Anxiety             3.0\n",
       "3   ive shifted focus something else im still worried  Anxiety             3.0\n",
       "4                 im restless restless month boy mean  Anxiety             3.0\n",
       "5   every break must nervous like something wrong ...  Anxiety             3.0\n",
       "6          feel scared anxious may family u protected  Anxiety             3.0\n",
       "7                        ever felt nervous didnt know  Anxiety             3.0\n",
       "8          havent slept well day like im restless huh  Anxiety             3.0\n",
       "9                          im really worried want cry  Anxiety             3.0\n",
       "10  always restless every night even though dont k...  Anxiety             3.0\n",
       "11  im confused im feeling good lately every time ...  Anxiety             3.0\n",
       "12  sometimes needed problem laugh forget problem ...  Anxiety             3.0\n",
       "13                                              worry  Anxiety             3.0\n",
       "14  sometimes thought make anxious afraid close ey...  Anxiety             3.0\n",
       "15  every time wake im definitely nervous excited ...  Anxiety             3.0\n",
       "16             hope even though im worried start like  Anxiety             3.0\n",
       "17                          restive restless restless  Anxiety             3.0\n",
       "18  regret grudgesangry thing passed worrying much...  Anxiety             3.0\n",
       "19  guy sick girl actually feel sick indirectly mu...  Anxiety             3.0\n",
       "20  ive anxious person became sincere person ive a...  Anxiety             3.0\n",
       "21  successfully online even sleeping state restle...  Anxiety             3.0\n",
       "22                         cant sleep restless nature  Anxiety             3.0\n",
       "23                      already worried picking phone  Anxiety             3.0\n",
       "24  little restless little restless always feel gu...  Anxiety             3.0\n",
       "25                         ive restless since morning  Anxiety             3.0\n",
       "26                                 make feel restless  Anxiety             3.0\n",
       "27                              sleepy restless sleep  Anxiety             3.0\n",
       "28  cave im already bad mood heart seems beating r...  Anxiety             3.0\n",
       "29                     busy restless geez whats going  Anxiety             3.0"
      ]
     },
     "execution_count": 112,
     "metadata": {},
     "output_type": "execute_result"
    }
   ],
   "source": [
    "# Verify whether encoding is applied to the dataset or not\n",
    "df3[['Cleaned_Statement', 'status', 'Encoded_Status']].head(30)"
   ]
  },
  {
   "cell_type": "code",
   "execution_count": 114,
   "id": "f3281901-27cf-4739-b323-18f0bb93759e",
   "metadata": {},
   "outputs": [
    {
     "name": "stdout",
     "output_type": "stream",
     "text": [
      "Preprocessing complete! Cleaned dataset saved as 'cleaned_sentiment_analysis.csv'.\n"
     ]
    }
   ],
   "source": [
    "# Save cleaned dataset\n",
    "df3.to_csv(\"cleaned_sentiment_analysis.csv\", index=False)\n",
    "\n",
    "print(\"Preprocessing complete! Cleaned dataset saved as 'cleaned_sentiment_analysis.csv'.\")›"
   ]
  }
 ],
 "metadata": {
  "kernelspec": {
   "display_name": "Python [conda env:base] *",
   "language": "python",
   "name": "conda-base-py"
  },
  "language_info": {
   "codemirror_mode": {
    "name": "ipython",
    "version": 3
   },
   "file_extension": ".py",
   "mimetype": "text/x-python",
   "name": "python",
   "nbconvert_exporter": "python",
   "pygments_lexer": "ipython3",
   "version": "3.12.7"
  }
 },
 "nbformat": 4,
 "nbformat_minor": 5
}

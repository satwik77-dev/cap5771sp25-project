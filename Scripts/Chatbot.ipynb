{
 "cells": [
  {
   "cell_type": "code",
   "execution_count": 7,
   "id": "a5f6fe2d-436f-494d-8be5-5832bbf2b70f",
   "metadata": {},
   "outputs": [],
   "source": [
    "#Importing Necessary Libraries\n",
    "import os\n",
    "import pandas as pd\n",
    "import pickle\n",
    "from scipy.sparse import hstack\n",
    "from sklearn.model_selection import train_test_split\n",
    "from sklearn.feature_extraction.text import TfidfVectorizer\n",
    "from sklearn.linear_model import LogisticRegression\n",
    "from sklearn.ensemble import RandomForestClassifier\n",
    "\n",
    "# Load Datasets\n",
    "df = pd.read_csv(\"/Users/satwik/Documents/GitHub/cap5771sp25-project/Data/Cleaned Data/Modeling_Dataset_Enriched.csv\")\n",
    "\n",
    "# Create folder to save best models\n",
    "model_dir = \"/Users/satwik/Documents/GitHub/cap5771sp25-project/BestModels\"\n",
    "os.makedirs(model_dir, exist_ok=True)\n",
    "\n",
    "# Intent Classification\n",
    "df_intent = df[['Input', 'Intent']].dropna()\n",
    "X = df_intent['Input']\n",
    "y = df_intent['Intent']\n",
    "\n",
    "vectorizer_intent = TfidfVectorizer(max_features=169)  # Matching feature size\n",
    "X_vec = vectorizer_intent.fit_transform(X)\n",
    "\n",
    "X_train, X_test, y_train, y_test = train_test_split(X_vec, y, test_size=0.2, stratify=y, random_state=42)\n",
    "\n",
    "intent_model = RandomForestClassifier(n_estimators=100, class_weight='balanced')\n",
    "intent_model.fit(X_train, y_train)\n",
    "\n",
    "with open(f\"{model_dir}/intent_classifier_random_forest.pkl\", \"wb\") as f:\n",
    "    pickle.dump(intent_model, f)\n",
    "\n",
    "with open(f\"{model_dir}/vectorizer_intent.pkl\", \"wb\") as f:\n",
    "    pickle.dump(vectorizer_intent, f)"
   ]
  },
  {
   "cell_type": "markdown",
   "id": "4fdf5095-1ce2-4501-91df-b8d91beef2d0",
   "metadata": {},
   "source": [
    "# Gradio Chatbot App"
   ]
  },
  {
   "cell_type": "code",
   "execution_count": 9,
   "id": "443a59d3-9c45-402f-8673-8c2e47d57441",
   "metadata": {},
   "outputs": [
    {
     "name": "stdout",
     "output_type": "stream",
     "text": [
      "* Running on local URL:  http://127.0.0.1:7862\n",
      "* Running on public URL: https://25bb9bba52aaa9de9c.gradio.live\n",
      "\n",
      "This share link expires in 1 week. For free permanent hosting and GPU upgrades, run `gradio deploy` from the terminal in the working directory to deploy to Hugging Face Spaces (https://huggingface.co/spaces)\n"
     ]
    },
    {
     "data": {
      "text/html": [
       "<div><iframe src=\"https://25bb9bba52aaa9de9c.gradio.live\" width=\"100%\" height=\"500\" allow=\"autoplay; camera; microphone; clipboard-read; clipboard-write;\" frameborder=\"0\" allowfullscreen></iframe></div>"
      ],
      "text/plain": [
       "<IPython.core.display.HTML object>"
      ]
     },
     "metadata": {},
     "output_type": "display_data"
    },
    {
     "data": {
      "text/plain": []
     },
     "execution_count": 9,
     "metadata": {},
     "output_type": "execute_result"
    }
   ],
   "source": [
    "import gradio as gr\n",
    "import pickle\n",
    "import os\n",
    "from transformers import BlenderbotTokenizer, BlenderbotForConditionalGeneration\n",
    "from sklearn.feature_extraction.text import TfidfVectorizer\n",
    "\n",
    "# Load Models\n",
    "model_dir = \"/Users/satwik/Documents/GitHub/cap5771sp25-project/BestModels\"\n",
    "\n",
    "with open(os.path.join(model_dir, \"intent_classifier_random_forest.pkl\"), \"rb\") as f:\n",
    "    intent_model = pickle.load(f)\n",
    "\n",
    "with open(os.path.join(model_dir, \"vectorizer_intent.pkl\"), \"rb\") as f:\n",
    "    intent_vectorizer = pickle.load(f)\n",
    "\n",
    "# Load BlenderBot\n",
    "blenderbot_name = \"facebook/blenderbot-400M-distill\"\n",
    "tokenizer = BlenderbotTokenizer.from_pretrained(blenderbot_name)\n",
    "blenderbot = BlenderbotForConditionalGeneration.from_pretrained(blenderbot_name)\n",
    "\n",
    "# Chat History\n",
    "chat_history = []\n",
    "\n",
    "# Response Logic\n",
    "def chatbot_reply(user_message, history):\n",
    "    global chat_history\n",
    "\n",
    "    # Step 1: Intent Prediction\n",
    "    X_vec = intent_vectorizer.transform([user_message])\n",
    "    predicted_intent = intent_model.predict(X_vec)[0]\n",
    "\n",
    "    # Step 2: Add User Message\n",
    "    chat_history.append((\"User\", user_message))\n",
    "\n",
    "    # Step 3: Build LLM Context (FIXED: Only recent user message passed)\n",
    "    full_context = f\"User: {user_message}\"\n",
    "\n",
    "    # Step 4: Generate LLM Response\n",
    "    inputs = tokenizer(full_context, return_tensors=\"pt\", truncation=True, max_length=128)\n",
    "    reply_ids = blenderbot.generate(**inputs)\n",
    "    response = tokenizer.decode(reply_ids[0], skip_special_tokens=True)\n",
    "\n",
    "    # Step 5: Add Bot Response\n",
    "    chat_history.append((\"Bot\", response))\n",
    "\n",
    "    # Format for gr.Chatbot\n",
    "    formatted_chat = []\n",
    "    for speaker, message in chat_history:\n",
    "        role = \"user\" if speaker == \"User\" else \"assistant\"\n",
    "        formatted_chat.append({\"role\": role, \"content\": message})\n",
    "\n",
    "    return formatted_chat, predicted_intent\n",
    "\n",
    "# Clear Chat Function\n",
    "def clear_chat():\n",
    "    global chat_history\n",
    "    chat_history.clear()\n",
    "    return [], \"\"\n",
    "\n",
    "# ==== Gradio UI ====\n",
    "with gr.Blocks() as demo:\n",
    "    gr.Markdown(\"### Mental Health Support Chatbot\")\n",
    "    gr.Markdown(\"AI-powered assistant trained on Real-Time Counseling and Support data. This chatbot Predicts your **Message Intent** and responds empathetically.\")\n",
    "\n",
    "    user_input = gr.Textbox(label=\"How are you feeling today?\", placeholder=\"Type your thoughts here...\", lines=2)\n",
    "\n",
    "    with gr.Row():\n",
    "        chatbot_ui = gr.Chatbot(label=\"Conversation\", type=\"messages\")\n",
    "        intent_box = gr.Textbox(label=\"Predicted Intent\", interactive=False)\n",
    "\n",
    "    with gr.Row():\n",
    "        submit_btn = gr.Button(\"Submit\")\n",
    "        clear_btn = gr.Button(\"Clear\")\n",
    "\n",
    "    submit_btn.click(fn=chatbot_reply, inputs=[user_input, chatbot_ui], outputs=[chatbot_ui, intent_box])\n",
    "    clear_btn.click(fn=clear_chat, outputs=[chatbot_ui, intent_box])\n",
    "\n",
    "# Launch with Shareable Public Link\n",
    "demo.launch(share=True)"
   ]
  },
  {
   "cell_type": "code",
   "execution_count": null,
   "id": "d352571c-38ca-476d-b46c-0097a9f1af2c",
   "metadata": {},
   "outputs": [],
   "source": []
  }
 ],
 "metadata": {
  "kernelspec": {
   "display_name": "Python (chatbot_env)",
   "language": "python",
   "name": "chatbot_env"
  },
  "language_info": {
   "codemirror_mode": {
    "name": "ipython",
    "version": 3
   },
   "file_extension": ".py",
   "mimetype": "text/x-python",
   "name": "python",
   "nbconvert_exporter": "python",
   "pygments_lexer": "ipython3",
   "version": "3.10.16"
  }
 },
 "nbformat": 4,
 "nbformat_minor": 5
}
